{
 "cells": [
  {
   "cell_type": "code",
   "execution_count": 35,
   "metadata": {},
   "outputs": [
    {
     "data": {
      "text/html": [
       "<div>\n",
       "<style scoped>\n",
       "    .dataframe tbody tr th:only-of-type {\n",
       "        vertical-align: middle;\n",
       "    }\n",
       "\n",
       "    .dataframe tbody tr th {\n",
       "        vertical-align: top;\n",
       "    }\n",
       "\n",
       "    .dataframe thead th {\n",
       "        text-align: right;\n",
       "    }\n",
       "</style>\n",
       "<table border=\"1\" class=\"dataframe\">\n",
       "  <thead>\n",
       "    <tr style=\"text-align: right;\">\n",
       "      <th></th>\n",
       "      <th>username</th>\n",
       "      <th>location</th>\n",
       "      <th>rank</th>\n",
       "      <th>points</th>\n",
       "      <th>contest_rating</th>\n",
       "      <th>contests_attended</th>\n",
       "      <th>solved_problems_count</th>\n",
       "    </tr>\n",
       "  </thead>\n",
       "  <tbody>\n",
       "    <tr>\n",
       "      <td>0</td>\n",
       "      <td>neal_wu</td>\n",
       "      <td>United States</td>\n",
       "      <td>1</td>\n",
       "      <td>121506</td>\n",
       "      <td>3,686pt</td>\n",
       "      <td>51</td>\n",
       "      <td>232</td>\n",
       "    </tr>\n",
       "  </tbody>\n",
       "</table>\n",
       "</div>"
      ],
      "text/plain": [
       "  username       location rank  points contest_rating contests_attended  \\\n",
       "0  neal_wu  United States    1  121506        3,686pt                51   \n",
       "\n",
       "  solved_problems_count  \n",
       "0                   232  "
      ]
     },
     "execution_count": 35,
     "metadata": {},
     "output_type": "execute_result"
    }
   ],
   "source": [
    "import requests\n",
    "import pandas as pd\n",
    "from bs4 import BeautifulSoup\n",
    "import selenium.webdriver\n",
    "from selenium.webdriver.firefox.options import Options\n",
    "import time\n",
    "import warnings\n",
    "warnings.filterwarnings('ignore')\n",
    "\n",
    "options = Options()\n",
    "options.set_headless(headless=True)\n",
    "driver = selenium.webdriver.Firefox(options=options)\n",
    "\n",
    "\n",
    "username_list = ['neal_wu']\n",
    "url = \"https://leetcode.com/\"\n",
    "\n",
    "\n",
    "data_list = list()\n",
    "\n",
    "for username in username_list:\n",
    "    data_dict = dict()\n",
    "    driver.get(url+username+'/')\n",
    "    time.sleep(4)\n",
    "    data = driver.page_source\n",
    "    driver.close()\n",
    "    soup = BeautifulSoup(data, 'html.parser')\n",
    "    data_dict['username'] = soup.find('div', {'class':'username__o7KX'}).text.strip()\n",
    "    data_dict['location'] = soup.find('li', {'class':'ant-list-item css-oknj20'}).text.split('\\n')[-1][8:]\n",
    "    data_dict['rank'] = soup.find('div',{'class':\"css-rcx088\"}).text.strip()\n",
    "    data_dict['points'] = soup.find('span', {'class': \"css-vsyzx3-SimpleBadge\"}).text.strip()\n",
    "    data_dict['contest_rating'] = soup.find('div', {'class':\"css-181az6d\"}).text.strip()\n",
    "    data_dict['contests_attended'] = soup.find('div',{'class':'css-wj7pxh-StatisticWrapper'}).text.strip()[8:]\n",
    "    data_dict['solved_problems_count'] = soup.find('div', {'class': 'total-solved-count__2El1'}).text.strip()\n",
    "    data_list.append(data_dict)\n",
    "    \n",
    "    \n",
    "df = pd.DataFrame(data_list)\n",
    "df"
   ]
  },
  {
   "cell_type": "code",
   "execution_count": null,
   "metadata": {},
   "outputs": [],
   "source": []
  }
 ],
 "metadata": {
  "hide_input": false,
  "kernelspec": {
   "display_name": "Python 3",
   "language": "python",
   "name": "python3"
  },
  "language_info": {
   "codemirror_mode": {
    "name": "ipython",
    "version": 3
   },
   "file_extension": ".py",
   "mimetype": "text/x-python",
   "name": "python",
   "nbconvert_exporter": "python",
   "pygments_lexer": "ipython3",
   "version": "3.7.4"
  }
 },
 "nbformat": 4,
 "nbformat_minor": 2
}
